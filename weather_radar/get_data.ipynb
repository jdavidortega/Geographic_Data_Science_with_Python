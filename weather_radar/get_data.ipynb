{
 "cells": [
  {
   "cell_type": "code",
   "execution_count": 3,
   "id": "initial_id",
   "metadata": {
    "ExecuteTime": {
     "end_time": "2024-10-25T18:34:26.074705Z",
     "start_time": "2024-10-25T18:34:25.795416Z"
    },
    "collapsed": true
   },
   "outputs": [],
   "source": [
    "import boto3\n",
    "from botocore import UNSIGNED\n",
    "from botocore.client import Config\n",
    "import os\n",
    "import pandas as pd\n",
    "from datetime import datetime"
   ]
  },
  {
   "cell_type": "markdown",
   "id": "6f045a9959120179",
   "metadata": {},
   "source": [
    "## Fuentes de datos\n"
   ]
  },
  {
   "cell_type": "markdown",
   "id": "1247053bc14188f5",
   "metadata": {},
   "source": [
    "### Cliente de AWS dispuesto por IDEAM\n",
    "\n",
    "- Para listar los archivos del 16 de septiembre de 2020 para el radar de Barrancabermeja se debe utilizar:\n",
    "\n",
    "    `aws s3 --no-sign-request ls --recursive s3://s3-radaresideam/l2_data/2020/09/16`\n",
    "\n",
    "    La bandera `--no-sign-request` le permitirá correr el comando sin la necesidad de proporcionar credenciales.\n",
    "\n",
    "- Para descargar todos los datos del día 16 de septiembre de 2020 para el radar de Barrancabermeja se debe utilizar:\n",
    "\n",
    "    `aws s3 --no-sign-request sync s3://s3-radaresideam/l2_data/2020/09/16/Barrancabermeja/ ./`\n",
    "\n",
    "- Para descargar solo un archivo de radar en específico se debe utilizar:\n",
    "\n",
    "    `aws s3 --no-sign-request cp s3://s3-radaresideam/l2_data/2020/09/16/Barrancabermeja/<NOMBRE DEL ARCHIVO> ./`"
   ]
  },
  {
   "cell_type": "code",
   "execution_count": 4,
   "id": "66643b73b0c98689",
   "metadata": {
    "ExecuteTime": {
     "end_time": "2024-10-25T18:34:26.077044Z",
     "start_time": "2024-10-25T18:34:26.075531Z"
    }
   },
   "outputs": [],
   "source": [
    "# Parámetros\n",
    "bucket_name = 's3-radaresideam'\n",
    "prefix = 'l2_data/2024/10/25/'  # Ruta del radar y fecha en el bucket"
   ]
  },
  {
   "cell_type": "code",
   "execution_count": 5,
   "id": "8bc3543764899535",
   "metadata": {
    "ExecuteTime": {
     "end_time": "2024-10-25T18:34:26.148355Z",
     "start_time": "2024-10-25T18:34:26.077561Z"
    }
   },
   "outputs": [],
   "source": [
    "# Configuración del cliente S3 sin autenticación\n",
    "s3 = boto3.client('s3', config=Config(signature_version=UNSIGNED))\n",
    "\n",
    "# Función para listar todos los archivos de una fecha específica en el bucket, junto con su fecha de última modificación\n",
    "def listar_archivos(bucket, prefix):\n",
    "    archivos = []\n",
    "    continuation_token = None\n",
    "    \n",
    "    while True:\n",
    "        if continuation_token:\n",
    "            resultado = s3.list_objects_v2(Bucket=bucket, Prefix=prefix, ContinuationToken=continuation_token)\n",
    "        else:\n",
    "            resultado = s3.list_objects_v2(Bucket=bucket, Prefix=prefix)\n",
    "        \n",
    "        if 'Contents' in resultado:\n",
    "            for archivo in resultado['Contents']:\n",
    "                path_archivo = archivo['Key']\n",
    "                ultima_modificacion = archivo['LastModified']\n",
    "                \n",
    "                # Extraer el radar del path (estructura: l2_data/año/mes/dia/radar/archivo)\n",
    "                radar = path_archivo.split('/')[4]\n",
    "                \n",
    "                # Extraer el nombre del archivo\n",
    "                nombre_archivo = path_archivo.split('/')[-1]\n",
    "                \n",
    "                # Verificar qué tipo de archivo estamos manejando para extraer fecha y hora\n",
    "                if '-' in nombre_archivo:\n",
    "                    # Estructura con fecha completa y hora (e.g., 9100SAN-20240911-220724-PPIVol.nc)\n",
    "                    fecha_captura = nombre_archivo.split('-')[1]  # Extraer \"20240911\"\n",
    "                    hora_captura = nombre_archivo.split('-')[2][:6]  # Extraer \"220724\"\n",
    "                    \n",
    "                    # Convertir fecha y hora en timestamp\n",
    "                    try:\n",
    "                        timestamp_captura = datetime.strptime(f'{fecha_captura} {hora_captura}', '%Y%m%d %H%M%S')\n",
    "                    except ValueError:\n",
    "                        timestamp_captura = None\n",
    "                else:\n",
    "                    # Estructura con fecha y hora combinada (e.g., TAB240911220835.RAW6L9F)\n",
    "                    fecha_hora_captura = nombre_archivo[3:15]  # Extraer \"240911220835\"\n",
    "                    fecha_captura = fecha_hora_captura[:6]  # Extraer \"240911\"\n",
    "                    hora_captura = fecha_hora_captura[6:]  # Extraer \"220835\"\n",
    "                    \n",
    "                    # Convertir fecha y hora en timestamp (asumimos que el siglo es el 2000)\n",
    "                    try:\n",
    "                        timestamp_captura = datetime.strptime(f'20{fecha_captura} {hora_captura}', '%Y%m%d %H%M%S')\n",
    "                    except ValueError:\n",
    "                        timestamp_captura = None\n",
    "\n",
    "                # Añadir la información a la lista\n",
    "                archivos.append((path_archivo, radar, ultima_modificacion, timestamp_captura))\n",
    "        \n",
    "        # Verificamos si hay más archivos a listar (paginación)\n",
    "        if resultado.get('IsTruncated'):\n",
    "            continuation_token = resultado['NextContinuationToken']\n",
    "        else:\n",
    "            break\n",
    "    \n",
    "    return archivos\n"
   ]
  },
  {
   "cell_type": "code",
   "execution_count": 6,
   "id": "ebfd6ef6114dc438",
   "metadata": {
    "ExecuteTime": {
     "end_time": "2024-10-25T18:34:29.363396Z",
     "start_time": "2024-10-25T18:34:26.149584Z"
    }
   },
   "outputs": [],
   "source": [
    "# Listar archivos con fechas de creación y radar\n",
    "archivos = listar_archivos(bucket_name, prefix)\n",
    "\n",
    "# Crear un DataFrame a partir de la lista de archivos\n",
    "df = pd.DataFrame(archivos, columns=['path_archivo', 'radar', 'ultima_modificacion', 'timestamp_captura'])"
   ]
  },
  {
   "cell_type": "code",
   "execution_count": 7,
   "id": "55f4792a8c582551",
   "metadata": {
    "ExecuteTime": {
     "end_time": "2024-10-25T18:34:29.371226Z",
     "start_time": "2024-10-25T18:34:29.364126Z"
    }
   },
   "outputs": [
    {
     "data": {
      "text/html": [
       "<div>\n",
       "<style scoped>\n",
       "    .dataframe tbody tr th:only-of-type {\n",
       "        vertical-align: middle;\n",
       "    }\n",
       "\n",
       "    .dataframe tbody tr th {\n",
       "        vertical-align: top;\n",
       "    }\n",
       "\n",
       "    .dataframe thead th {\n",
       "        text-align: right;\n",
       "    }\n",
       "</style>\n",
       "<table border=\"1\" class=\"dataframe\">\n",
       "  <thead>\n",
       "    <tr style=\"text-align: right;\">\n",
       "      <th></th>\n",
       "      <th>path_archivo</th>\n",
       "      <th>radar</th>\n",
       "      <th>ultima_modificacion</th>\n",
       "      <th>timestamp_captura</th>\n",
       "    </tr>\n",
       "  </thead>\n",
       "  <tbody>\n",
       "    <tr>\n",
       "      <th>0</th>\n",
       "      <td>l2_data/2024/10/25/Bogota/1399BOG-20241025-000...</td>\n",
       "      <td>Bogota</td>\n",
       "      <td>2024-10-25 00:06:22+00:00</td>\n",
       "      <td>2024-10-25 00:00:36</td>\n",
       "    </tr>\n",
       "    <tr>\n",
       "      <th>1</th>\n",
       "      <td>l2_data/2024/10/25/Bogota/1399BOG-20241025-000...</td>\n",
       "      <td>Bogota</td>\n",
       "      <td>2024-10-25 00:10:40+00:00</td>\n",
       "      <td>2024-10-25 00:00:36</td>\n",
       "    </tr>\n",
       "    <tr>\n",
       "      <th>2</th>\n",
       "      <td>l2_data/2024/10/25/Bogota/1399BOG-20241025-000...</td>\n",
       "      <td>Bogota</td>\n",
       "      <td>2024-10-25 00:10:43+00:00</td>\n",
       "      <td>2024-10-25 00:01:38</td>\n",
       "    </tr>\n",
       "    <tr>\n",
       "      <th>3</th>\n",
       "      <td>l2_data/2024/10/25/Bogota/1399BOG-20241025-000...</td>\n",
       "      <td>Bogota</td>\n",
       "      <td>2024-10-25 00:10:41+00:00</td>\n",
       "      <td>2024-10-25 00:02:40</td>\n",
       "    </tr>\n",
       "    <tr>\n",
       "      <th>4</th>\n",
       "      <td>l2_data/2024/10/25/Bogota/1399BOG-20241025-000...</td>\n",
       "      <td>Bogota</td>\n",
       "      <td>2024-10-25 00:15:14+00:00</td>\n",
       "      <td>2024-10-25 00:02:40</td>\n",
       "    </tr>\n",
       "    <tr>\n",
       "      <th>...</th>\n",
       "      <td>...</td>\n",
       "      <td>...</td>\n",
       "      <td>...</td>\n",
       "      <td>...</td>\n",
       "    </tr>\n",
       "    <tr>\n",
       "      <th>16502</th>\n",
       "      <td>l2_data/2024/10/25/santa_elena/9100SAN-2024102...</td>\n",
       "      <td>santa_elena</td>\n",
       "      <td>2024-10-25 23:58:53+00:00</td>\n",
       "      <td>2024-10-25 23:48:05</td>\n",
       "    </tr>\n",
       "    <tr>\n",
       "      <th>16503</th>\n",
       "      <td>l2_data/2024/10/25/santa_elena/9100SAN-2024102...</td>\n",
       "      <td>santa_elena</td>\n",
       "      <td>2024-10-25 23:58:53+00:00</td>\n",
       "      <td>2024-10-25 23:49:06</td>\n",
       "    </tr>\n",
       "    <tr>\n",
       "      <th>16504</th>\n",
       "      <td>l2_data/2024/10/25/santa_elena/9100SAN-2024102...</td>\n",
       "      <td>santa_elena</td>\n",
       "      <td>2024-10-25 23:58:53+00:00</td>\n",
       "      <td>2024-10-25 23:50:08</td>\n",
       "    </tr>\n",
       "    <tr>\n",
       "      <th>16505</th>\n",
       "      <td>l2_data/2024/10/25/santa_elena/9100SAN-2024102...</td>\n",
       "      <td>santa_elena</td>\n",
       "      <td>2024-10-25 23:58:53+00:00</td>\n",
       "      <td>2024-10-25 23:51:22</td>\n",
       "    </tr>\n",
       "    <tr>\n",
       "      <th>16506</th>\n",
       "      <td>l2_data/2024/10/25/santa_elena/9100SAN-2024102...</td>\n",
       "      <td>santa_elena</td>\n",
       "      <td>2024-10-25 23:58:55+00:00</td>\n",
       "      <td>2024-10-25 23:53:17</td>\n",
       "    </tr>\n",
       "  </tbody>\n",
       "</table>\n",
       "<p>16507 rows × 4 columns</p>\n",
       "</div>"
      ],
      "text/plain": [
       "                                            path_archivo        radar  \\\n",
       "0      l2_data/2024/10/25/Bogota/1399BOG-20241025-000...       Bogota   \n",
       "1      l2_data/2024/10/25/Bogota/1399BOG-20241025-000...       Bogota   \n",
       "2      l2_data/2024/10/25/Bogota/1399BOG-20241025-000...       Bogota   \n",
       "3      l2_data/2024/10/25/Bogota/1399BOG-20241025-000...       Bogota   \n",
       "4      l2_data/2024/10/25/Bogota/1399BOG-20241025-000...       Bogota   \n",
       "...                                                  ...          ...   \n",
       "16502  l2_data/2024/10/25/santa_elena/9100SAN-2024102...  santa_elena   \n",
       "16503  l2_data/2024/10/25/santa_elena/9100SAN-2024102...  santa_elena   \n",
       "16504  l2_data/2024/10/25/santa_elena/9100SAN-2024102...  santa_elena   \n",
       "16505  l2_data/2024/10/25/santa_elena/9100SAN-2024102...  santa_elena   \n",
       "16506  l2_data/2024/10/25/santa_elena/9100SAN-2024102...  santa_elena   \n",
       "\n",
       "            ultima_modificacion   timestamp_captura  \n",
       "0     2024-10-25 00:06:22+00:00 2024-10-25 00:00:36  \n",
       "1     2024-10-25 00:10:40+00:00 2024-10-25 00:00:36  \n",
       "2     2024-10-25 00:10:43+00:00 2024-10-25 00:01:38  \n",
       "3     2024-10-25 00:10:41+00:00 2024-10-25 00:02:40  \n",
       "4     2024-10-25 00:15:14+00:00 2024-10-25 00:02:40  \n",
       "...                         ...                 ...  \n",
       "16502 2024-10-25 23:58:53+00:00 2024-10-25 23:48:05  \n",
       "16503 2024-10-25 23:58:53+00:00 2024-10-25 23:49:06  \n",
       "16504 2024-10-25 23:58:53+00:00 2024-10-25 23:50:08  \n",
       "16505 2024-10-25 23:58:53+00:00 2024-10-25 23:51:22  \n",
       "16506 2024-10-25 23:58:55+00:00 2024-10-25 23:53:17  \n",
       "\n",
       "[16507 rows x 4 columns]"
      ]
     },
     "execution_count": 7,
     "metadata": {},
     "output_type": "execute_result"
    }
   ],
   "source": [
    "df"
   ]
  },
  {
   "cell_type": "markdown",
   "id": "7ab2a342ba0a3c4e",
   "metadata": {},
   "source": [
    "## Análisis de frecuencia en la disponibilidad de los datos"
   ]
  },
  {
   "cell_type": "markdown",
   "id": "50af658e8a3f6bff",
   "metadata": {},
   "source": [
    "### Captura de los datos \n",
    "Cada cuanto se capturan los datos"
   ]
  },
  {
   "cell_type": "code",
   "execution_count": 8,
   "id": "5261e7faf9a349a3",
   "metadata": {
    "ExecuteTime": {
     "end_time": "2024-10-25T18:34:29.378843Z",
     "start_time": "2024-10-25T18:34:29.371853Z"
    }
   },
   "outputs": [],
   "source": [
    "# Ordenar los datos por radar y por timestamp de captura\n",
    "df = df.sort_values(by=['radar', 'timestamp_captura'])\n",
    "\n",
    "# Calcular la diferencia entre los timestamps de captura por radar en minutos\n",
    "df['diferencia_captura_minutos'] = df.groupby('radar')['timestamp_captura'].diff().dt.total_seconds() / 60\n",
    "\n",
    "# Eliminar las diferencias de captura que sean 0 minutos\n",
    "df_no_ceros_captura = df[df['diferencia_captura_minutos'] != 0]\n",
    "\n",
    "# Crear un resumen para cada radar mostrando las diferencias entre las capturas de datos (media, mínima y máxima)\n",
    "resumen_captura_radar = df_no_ceros_captura.groupby('radar')['diferencia_captura_minutos'].agg(['mean', 'min', 'max', 'count']).reset_index()"
   ]
  },
  {
   "cell_type": "code",
   "execution_count": 9,
   "id": "c0dc5e736fb31aca",
   "metadata": {
    "ExecuteTime": {
     "end_time": "2024-10-25T18:34:29.382531Z",
     "start_time": "2024-10-25T18:34:29.379379Z"
    }
   },
   "outputs": [
    {
     "data": {
      "text/html": [
       "<div>\n",
       "<style scoped>\n",
       "    .dataframe tbody tr th:only-of-type {\n",
       "        vertical-align: middle;\n",
       "    }\n",
       "\n",
       "    .dataframe tbody tr th {\n",
       "        vertical-align: top;\n",
       "    }\n",
       "\n",
       "    .dataframe thead th {\n",
       "        text-align: right;\n",
       "    }\n",
       "</style>\n",
       "<table border=\"1\" class=\"dataframe\">\n",
       "  <thead>\n",
       "    <tr style=\"text-align: right;\">\n",
       "      <th></th>\n",
       "      <th>radar</th>\n",
       "      <th>mean</th>\n",
       "      <th>min</th>\n",
       "      <th>max</th>\n",
       "      <th>count</th>\n",
       "    </tr>\n",
       "  </thead>\n",
       "  <tbody>\n",
       "    <tr>\n",
       "      <th>0</th>\n",
       "      <td>Bogota</td>\n",
       "      <td>1.251037</td>\n",
       "      <td>1.016667</td>\n",
       "      <td>7.200000</td>\n",
       "      <td>1141</td>\n",
       "    </tr>\n",
       "    <tr>\n",
       "      <th>1</th>\n",
       "      <td>Carimagua</td>\n",
       "      <td>0.545222</td>\n",
       "      <td>0.200000</td>\n",
       "      <td>106.450000</td>\n",
       "      <td>2630</td>\n",
       "    </tr>\n",
       "    <tr>\n",
       "      <th>2</th>\n",
       "      <td>Corozal</td>\n",
       "      <td>0.503470</td>\n",
       "      <td>0.416667</td>\n",
       "      <td>1.516667</td>\n",
       "      <td>2858</td>\n",
       "    </tr>\n",
       "    <tr>\n",
       "      <th>3</th>\n",
       "      <td>Guaviare</td>\n",
       "      <td>0.982269</td>\n",
       "      <td>0.566667</td>\n",
       "      <td>2.600000</td>\n",
       "      <td>1456</td>\n",
       "    </tr>\n",
       "    <tr>\n",
       "      <th>4</th>\n",
       "      <td>Munchique</td>\n",
       "      <td>3.690451</td>\n",
       "      <td>0.600000</td>\n",
       "      <td>743.483333</td>\n",
       "      <td>384</td>\n",
       "    </tr>\n",
       "    <tr>\n",
       "      <th>5</th>\n",
       "      <td>San_Andres</td>\n",
       "      <td>0.519741</td>\n",
       "      <td>0.416667</td>\n",
       "      <td>11.066667</td>\n",
       "      <td>2759</td>\n",
       "    </tr>\n",
       "    <tr>\n",
       "      <th>6</th>\n",
       "      <td>Tablazo</td>\n",
       "      <td>0.559543</td>\n",
       "      <td>0.416667</td>\n",
       "      <td>1.550000</td>\n",
       "      <td>2562</td>\n",
       "    </tr>\n",
       "    <tr>\n",
       "      <th>7</th>\n",
       "      <td>santa_elena</td>\n",
       "      <td>1.304888</td>\n",
       "      <td>0.533333</td>\n",
       "      <td>2.216667</td>\n",
       "      <td>1098</td>\n",
       "    </tr>\n",
       "  </tbody>\n",
       "</table>\n",
       "</div>"
      ],
      "text/plain": [
       "         radar      mean       min         max  count\n",
       "0       Bogota  1.251037  1.016667    7.200000   1141\n",
       "1    Carimagua  0.545222  0.200000  106.450000   2630\n",
       "2      Corozal  0.503470  0.416667    1.516667   2858\n",
       "3     Guaviare  0.982269  0.566667    2.600000   1456\n",
       "4    Munchique  3.690451  0.600000  743.483333    384\n",
       "5   San_Andres  0.519741  0.416667   11.066667   2759\n",
       "6      Tablazo  0.559543  0.416667    1.550000   2562\n",
       "7  santa_elena  1.304888  0.533333    2.216667   1098"
      ]
     },
     "execution_count": 9,
     "metadata": {},
     "output_type": "execute_result"
    }
   ],
   "source": [
    "resumen_captura_radar"
   ]
  },
  {
   "cell_type": "markdown",
   "id": "d5623820672cb41b",
   "metadata": {},
   "source": [
    "### Guardado de los datos\n",
    "Cada cuanto se guarda en el repositorio los datos"
   ]
  },
  {
   "cell_type": "code",
   "execution_count": 10,
   "id": "c26b3d5f0abe9075",
   "metadata": {
    "ExecuteTime": {
     "end_time": "2024-10-25T18:34:29.387924Z",
     "start_time": "2024-10-25T18:34:29.383Z"
    }
   },
   "outputs": [],
   "source": [
    "# Ordenar los datos por radar y por timestamp de guardado\n",
    "df = df.sort_values(by=['radar', 'ultima_modificacion'])\n",
    "\n",
    "# Calcular la diferencia entre los timestamps de guardado por radar en minutos\n",
    "df['diferencia_guardado_minutos'] = df.groupby('radar')['ultima_modificacion'].diff().dt.total_seconds() / 60\n",
    "\n",
    "# Eliminar las filas donde la diferencia de guardado es 0\n",
    "df_no_ceros = df[df['diferencia_guardado_minutos'] != 0]\n",
    "\n",
    "# Crear un resumen para cada radar mostrando las diferencias entre las cargas (media, mínima y máxima)\n",
    "resumen_guardado_radar = df_no_ceros.groupby('radar')['diferencia_guardado_minutos'].agg(['mean', 'min', 'max', 'count']).reset_index()"
   ]
  },
  {
   "cell_type": "code",
   "execution_count": 11,
   "id": "3ea674dc10bff965",
   "metadata": {
    "ExecuteTime": {
     "end_time": "2024-10-25T18:34:29.391429Z",
     "start_time": "2024-10-25T18:34:29.388467Z"
    }
   },
   "outputs": [
    {
     "data": {
      "text/html": [
       "<div>\n",
       "<style scoped>\n",
       "    .dataframe tbody tr th:only-of-type {\n",
       "        vertical-align: middle;\n",
       "    }\n",
       "\n",
       "    .dataframe tbody tr th {\n",
       "        vertical-align: top;\n",
       "    }\n",
       "\n",
       "    .dataframe thead th {\n",
       "        text-align: right;\n",
       "    }\n",
       "</style>\n",
       "<table border=\"1\" class=\"dataframe\">\n",
       "  <thead>\n",
       "    <tr style=\"text-align: right;\">\n",
       "      <th></th>\n",
       "      <th>radar</th>\n",
       "      <th>mean</th>\n",
       "      <th>min</th>\n",
       "      <th>max</th>\n",
       "      <th>count</th>\n",
       "    </tr>\n",
       "  </thead>\n",
       "  <tbody>\n",
       "    <tr>\n",
       "      <th>0</th>\n",
       "      <td>Bogota</td>\n",
       "      <td>1.571264</td>\n",
       "      <td>0.016667</td>\n",
       "      <td>10.733333</td>\n",
       "      <td>910</td>\n",
       "    </tr>\n",
       "    <tr>\n",
       "      <th>1</th>\n",
       "      <td>Carimagua</td>\n",
       "      <td>3.528465</td>\n",
       "      <td>0.016667</td>\n",
       "      <td>119.966667</td>\n",
       "      <td>404</td>\n",
       "    </tr>\n",
       "    <tr>\n",
       "      <th>2</th>\n",
       "      <td>Corozal</td>\n",
       "      <td>2.786919</td>\n",
       "      <td>0.016667</td>\n",
       "      <td>9.966667</td>\n",
       "      <td>516</td>\n",
       "    </tr>\n",
       "    <tr>\n",
       "      <th>3</th>\n",
       "      <td>Guaviare</td>\n",
       "      <td>3.647066</td>\n",
       "      <td>0.016667</td>\n",
       "      <td>9.100000</td>\n",
       "      <td>392</td>\n",
       "    </tr>\n",
       "    <tr>\n",
       "      <th>4</th>\n",
       "      <td>Munchique</td>\n",
       "      <td>8.135441</td>\n",
       "      <td>0.016667</td>\n",
       "      <td>744.950000</td>\n",
       "      <td>174</td>\n",
       "    </tr>\n",
       "    <tr>\n",
       "      <th>5</th>\n",
       "      <td>San_Andres</td>\n",
       "      <td>3.157043</td>\n",
       "      <td>0.016667</td>\n",
       "      <td>18.550000</td>\n",
       "      <td>452</td>\n",
       "    </tr>\n",
       "    <tr>\n",
       "      <th>6</th>\n",
       "      <td>Tablazo</td>\n",
       "      <td>3.251553</td>\n",
       "      <td>0.016667</td>\n",
       "      <td>14.433333</td>\n",
       "      <td>440</td>\n",
       "    </tr>\n",
       "    <tr>\n",
       "      <th>7</th>\n",
       "      <td>santa_elena</td>\n",
       "      <td>3.378263</td>\n",
       "      <td>0.016667</td>\n",
       "      <td>10.883333</td>\n",
       "      <td>424</td>\n",
       "    </tr>\n",
       "  </tbody>\n",
       "</table>\n",
       "</div>"
      ],
      "text/plain": [
       "         radar      mean       min         max  count\n",
       "0       Bogota  1.571264  0.016667   10.733333    910\n",
       "1    Carimagua  3.528465  0.016667  119.966667    404\n",
       "2      Corozal  2.786919  0.016667    9.966667    516\n",
       "3     Guaviare  3.647066  0.016667    9.100000    392\n",
       "4    Munchique  8.135441  0.016667  744.950000    174\n",
       "5   San_Andres  3.157043  0.016667   18.550000    452\n",
       "6      Tablazo  3.251553  0.016667   14.433333    440\n",
       "7  santa_elena  3.378263  0.016667   10.883333    424"
      ]
     },
     "execution_count": 11,
     "metadata": {},
     "output_type": "execute_result"
    }
   ],
   "source": [
    "resumen_guardado_radar"
   ]
  },
  {
   "cell_type": "markdown",
   "id": "e26210d76366282e",
   "metadata": {},
   "source": [
    "### Extensiones de los archivos\n",
    "\n",
    "Cuales son las extensiones de los archivos en el repositorio"
   ]
  },
  {
   "cell_type": "code",
   "execution_count": 12,
   "id": "23095ec6b83cea32",
   "metadata": {
    "ExecuteTime": {
     "end_time": "2024-10-25T18:34:29.394666Z",
     "start_time": "2024-10-25T18:34:29.393055Z"
    }
   },
   "outputs": [],
   "source": [
    "def obtener_extension(path):\n",
    "    nombre_archivo = path.split('/')[-1]\n",
    "    if '.' in nombre_archivo:\n",
    "        return nombre_archivo.split('.')[-1]\n",
    "    else:\n",
    "        # Si no tiene extensión, tomar los últimos caracteres que identifican el tipo de archivo\n",
    "        return nombre_archivo[-7:]  # Consideramos una longitud razonable para la extensión"
   ]
  },
  {
   "cell_type": "code",
   "execution_count": 13,
   "id": "d5951b166173aad0",
   "metadata": {
    "ExecuteTime": {
     "end_time": "2024-10-25T18:34:29.401974Z",
     "start_time": "2024-10-25T18:34:29.395180Z"
    }
   },
   "outputs": [],
   "source": [
    "# Aplicamos la función para obtener las extensiones correctas\n",
    "df['extension'] = df['path_archivo'].apply(obtener_extension)\n",
    "\n",
    "# Contamos las extensiones nuevamente\n",
    "conteo_extensiones = df['extension'].value_counts().reset_index()\n",
    "\n",
    "# Renombrar columnas para claridad\n",
    "conteo_extensiones.columns = ['extension', 'count']\n"
   ]
  },
  {
   "cell_type": "code",
   "execution_count": 14,
   "id": "52b56913cfd139e",
   "metadata": {
    "ExecuteTime": {
     "end_time": "2024-10-25T18:34:29.405282Z",
     "start_time": "2024-10-25T18:34:29.402515Z"
    }
   },
   "outputs": [
    {
     "data": {
      "text/html": [
       "<div>\n",
       "<style scoped>\n",
       "    .dataframe tbody tr th:only-of-type {\n",
       "        vertical-align: middle;\n",
       "    }\n",
       "\n",
       "    .dataframe tbody tr th {\n",
       "        vertical-align: top;\n",
       "    }\n",
       "\n",
       "    .dataframe thead th {\n",
       "        text-align: right;\n",
       "    }\n",
       "</style>\n",
       "<table border=\"1\" class=\"dataframe\">\n",
       "  <thead>\n",
       "    <tr style=\"text-align: right;\">\n",
       "      <th></th>\n",
       "      <th>extension</th>\n",
       "      <th>count</th>\n",
       "    </tr>\n",
       "  </thead>\n",
       "  <tbody>\n",
       "    <tr>\n",
       "      <th>0</th>\n",
       "      <td>nc</td>\n",
       "      <td>2241</td>\n",
       "    </tr>\n",
       "    <tr>\n",
       "      <th>1</th>\n",
       "      <td>gz</td>\n",
       "      <td>761</td>\n",
       "    </tr>\n",
       "    <tr>\n",
       "      <th>2</th>\n",
       "      <td>RAWXVUS</td>\n",
       "      <td>1</td>\n",
       "    </tr>\n",
       "    <tr>\n",
       "      <th>3</th>\n",
       "      <td>RAW22LN</td>\n",
       "      <td>1</td>\n",
       "    </tr>\n",
       "    <tr>\n",
       "      <th>4</th>\n",
       "      <td>RAWXPBP</td>\n",
       "      <td>1</td>\n",
       "    </tr>\n",
       "    <tr>\n",
       "      <th>...</th>\n",
       "      <td>...</td>\n",
       "      <td>...</td>\n",
       "    </tr>\n",
       "    <tr>\n",
       "      <th>13502</th>\n",
       "      <td>RAW24X6</td>\n",
       "      <td>1</td>\n",
       "    </tr>\n",
       "    <tr>\n",
       "      <th>13503</th>\n",
       "      <td>RAW24X8</td>\n",
       "      <td>1</td>\n",
       "    </tr>\n",
       "    <tr>\n",
       "      <th>13504</th>\n",
       "      <td>RAW24XC</td>\n",
       "      <td>1</td>\n",
       "    </tr>\n",
       "    <tr>\n",
       "      <th>13505</th>\n",
       "      <td>RAWXRTM</td>\n",
       "      <td>1</td>\n",
       "    </tr>\n",
       "    <tr>\n",
       "      <th>13506</th>\n",
       "      <td>RAWXVUX</td>\n",
       "      <td>1</td>\n",
       "    </tr>\n",
       "  </tbody>\n",
       "</table>\n",
       "<p>13507 rows × 2 columns</p>\n",
       "</div>"
      ],
      "text/plain": [
       "      extension  count\n",
       "0            nc   2241\n",
       "1            gz    761\n",
       "2       RAWXVUS      1\n",
       "3       RAW22LN      1\n",
       "4       RAWXPBP      1\n",
       "...         ...    ...\n",
       "13502   RAW24X6      1\n",
       "13503   RAW24X8      1\n",
       "13504   RAW24XC      1\n",
       "13505   RAWXRTM      1\n",
       "13506   RAWXVUX      1\n",
       "\n",
       "[13507 rows x 2 columns]"
      ]
     },
     "execution_count": 14,
     "metadata": {},
     "output_type": "execute_result"
    }
   ],
   "source": [
    "conteo_extensiones"
   ]
  },
  {
   "cell_type": "code",
   "execution_count": 15,
   "id": "9729e99e894dd501",
   "metadata": {
    "ExecuteTime": {
     "end_time": "2024-10-25T18:34:29.407042Z",
     "start_time": "2024-10-25T18:34:29.405771Z"
    }
   },
   "outputs": [],
   "source": [
    "def agrupar_extension(extension):\n",
    "    if 'RAW' in extension:\n",
    "        return 'RAW'\n",
    "    return extension"
   ]
  },
  {
   "cell_type": "code",
   "execution_count": 16,
   "id": "896b1f7e73fa7ad",
   "metadata": {
    "ExecuteTime": {
     "end_time": "2024-10-25T18:34:29.410679Z",
     "start_time": "2024-10-25T18:34:29.407532Z"
    }
   },
   "outputs": [],
   "source": [
    "# Aplicamos la función de agrupación sobre la columna de extensión\n",
    "df['extension_agrupada'] = df['extension'].apply(agrupar_extension)\n",
    "\n",
    "# Contamos las extensiones nuevamente después de la agrupación\n",
    "conteo_extensiones_agrupado = df['extension_agrupada'].value_counts().reset_index()\n",
    "\n",
    "# Renombrar las columnas para mayor claridad\n",
    "conteo_extensiones_agrupado.columns = ['extension', 'count']"
   ]
  },
  {
   "cell_type": "code",
   "execution_count": 17,
   "id": "b831d1bf6e42b5ad",
   "metadata": {
    "ExecuteTime": {
     "end_time": "2024-10-25T18:34:29.413550Z",
     "start_time": "2024-10-25T18:34:29.411251Z"
    }
   },
   "outputs": [
    {
     "data": {
      "text/html": [
       "<div>\n",
       "<style scoped>\n",
       "    .dataframe tbody tr th:only-of-type {\n",
       "        vertical-align: middle;\n",
       "    }\n",
       "\n",
       "    .dataframe tbody tr th {\n",
       "        vertical-align: top;\n",
       "    }\n",
       "\n",
       "    .dataframe thead th {\n",
       "        text-align: right;\n",
       "    }\n",
       "</style>\n",
       "<table border=\"1\" class=\"dataframe\">\n",
       "  <thead>\n",
       "    <tr style=\"text-align: right;\">\n",
       "      <th></th>\n",
       "      <th>extension</th>\n",
       "      <th>count</th>\n",
       "    </tr>\n",
       "  </thead>\n",
       "  <tbody>\n",
       "    <tr>\n",
       "      <th>0</th>\n",
       "      <td>RAW</td>\n",
       "      <td>13505</td>\n",
       "    </tr>\n",
       "    <tr>\n",
       "      <th>1</th>\n",
       "      <td>nc</td>\n",
       "      <td>2241</td>\n",
       "    </tr>\n",
       "    <tr>\n",
       "      <th>2</th>\n",
       "      <td>gz</td>\n",
       "      <td>761</td>\n",
       "    </tr>\n",
       "  </tbody>\n",
       "</table>\n",
       "</div>"
      ],
      "text/plain": [
       "  extension  count\n",
       "0       RAW  13505\n",
       "1        nc   2241\n",
       "2        gz    761"
      ]
     },
     "execution_count": 17,
     "metadata": {},
     "output_type": "execute_result"
    }
   ],
   "source": [
    "conteo_extensiones_agrupado"
   ]
  },
  {
   "cell_type": "code",
   "execution_count": 18,
   "id": "82409c6082c65bef",
   "metadata": {
    "ExecuteTime": {
     "end_time": "2024-10-25T18:34:29.418411Z",
     "start_time": "2024-10-25T18:34:29.414060Z"
    }
   },
   "outputs": [
    {
     "data": {
      "text/html": [
       "<div>\n",
       "<style scoped>\n",
       "    .dataframe tbody tr th:only-of-type {\n",
       "        vertical-align: middle;\n",
       "    }\n",
       "\n",
       "    .dataframe tbody tr th {\n",
       "        vertical-align: top;\n",
       "    }\n",
       "\n",
       "    .dataframe thead th {\n",
       "        text-align: right;\n",
       "    }\n",
       "</style>\n",
       "<table border=\"1\" class=\"dataframe\">\n",
       "  <thead>\n",
       "    <tr style=\"text-align: right;\">\n",
       "      <th></th>\n",
       "      <th>radar</th>\n",
       "      <th>extension_agrupada</th>\n",
       "      <th>conteo</th>\n",
       "    </tr>\n",
       "  </thead>\n",
       "  <tbody>\n",
       "    <tr>\n",
       "      <th>0</th>\n",
       "      <td>Bogota</td>\n",
       "      <td>gz</td>\n",
       "      <td>761</td>\n",
       "    </tr>\n",
       "    <tr>\n",
       "      <th>1</th>\n",
       "      <td>Bogota</td>\n",
       "      <td>nc</td>\n",
       "      <td>1142</td>\n",
       "    </tr>\n",
       "    <tr>\n",
       "      <th>2</th>\n",
       "      <td>Carimagua</td>\n",
       "      <td>RAW</td>\n",
       "      <td>2631</td>\n",
       "    </tr>\n",
       "    <tr>\n",
       "      <th>3</th>\n",
       "      <td>Corozal</td>\n",
       "      <td>RAW</td>\n",
       "      <td>3146</td>\n",
       "    </tr>\n",
       "    <tr>\n",
       "      <th>4</th>\n",
       "      <td>Guaviare</td>\n",
       "      <td>RAW</td>\n",
       "      <td>1457</td>\n",
       "    </tr>\n",
       "    <tr>\n",
       "      <th>5</th>\n",
       "      <td>Munchique</td>\n",
       "      <td>RAW</td>\n",
       "      <td>385</td>\n",
       "    </tr>\n",
       "    <tr>\n",
       "      <th>6</th>\n",
       "      <td>San_Andres</td>\n",
       "      <td>RAW</td>\n",
       "      <td>3036</td>\n",
       "    </tr>\n",
       "    <tr>\n",
       "      <th>7</th>\n",
       "      <td>Tablazo</td>\n",
       "      <td>RAW</td>\n",
       "      <td>2850</td>\n",
       "    </tr>\n",
       "    <tr>\n",
       "      <th>8</th>\n",
       "      <td>santa_elena</td>\n",
       "      <td>nc</td>\n",
       "      <td>1099</td>\n",
       "    </tr>\n",
       "  </tbody>\n",
       "</table>\n",
       "</div>"
      ],
      "text/plain": [
       "         radar extension_agrupada  conteo\n",
       "0       Bogota                 gz     761\n",
       "1       Bogota                 nc    1142\n",
       "2    Carimagua                RAW    2631\n",
       "3      Corozal                RAW    3146\n",
       "4     Guaviare                RAW    1457\n",
       "5    Munchique                RAW     385\n",
       "6   San_Andres                RAW    3036\n",
       "7      Tablazo                RAW    2850\n",
       "8  santa_elena                 nc    1099"
      ]
     },
     "execution_count": 18,
     "metadata": {},
     "output_type": "execute_result"
    }
   ],
   "source": [
    "# Extensiones por radar\n",
    "df[['radar', 'extension_agrupada']].groupby(['radar', 'extension_agrupada']).size().reset_index(name='conteo')"
   ]
  },
  {
   "cell_type": "markdown",
   "id": "4e67efbe7b717137",
   "metadata": {},
   "source": [
    "## Descargar datos"
   ]
  },
  {
   "cell_type": "code",
   "execution_count": 19,
   "id": "3ef5ec7f99c91b96",
   "metadata": {
    "ExecuteTime": {
     "end_time": "2024-10-25T18:34:29.420624Z",
     "start_time": "2024-10-25T18:34:29.419022Z"
    }
   },
   "outputs": [],
   "source": [
    "# Función para descargar un archivo específico\n",
    "def descargar_archivo(bucket, file_key, destino_local):\n",
    "    try:\n",
    "        s3.download_file(bucket, file_key, destino_local)\n",
    "        print(f'Archivo {file_key} descargado exitosamente a {destino_local}.')\n",
    "    except Exception as e:\n",
    "        print(f'Error descargando el archivo {file_key}: {e}')"
   ]
  },
  {
   "cell_type": "code",
   "execution_count": 20,
   "id": "1c403f30a1aad3cb",
   "metadata": {
    "ExecuteTime": {
     "end_time": "2024-10-25T18:59:53.971490Z",
     "start_time": "2024-10-25T18:59:53.969035Z"
    }
   },
   "outputs": [],
   "source": [
    "# Archivo objetivo\n",
    "file_origin = 'l2_data/2024/10/25/Carimagua/CAR241025181428.RAWXTKP'\n",
    "file_destination = 'CAR241025181428.RAWXTKP'"
   ]
  },
  {
   "cell_type": "code",
   "execution_count": 21,
   "id": "311c13fe410abf9d",
   "metadata": {
    "ExecuteTime": {
     "end_time": "2024-10-25T18:59:55.127539Z",
     "start_time": "2024-10-25T18:59:54.268069Z"
    }
   },
   "outputs": [
    {
     "name": "stdout",
     "output_type": "stream",
     "text": [
      "Archivo l2_data/2024/10/25/Carimagua/CAR241025181428.RAWXTKP descargado exitosamente a CAR241025181428.RAWXTKP.\n"
     ]
    }
   ],
   "source": [
    "descargar_archivo(bucket_name, file_origin, file_destination)"
   ]
  },
  {
   "cell_type": "code",
   "execution_count": null,
   "id": "5cd93cbd5201bf0b",
   "metadata": {
    "ExecuteTime": {
     "end_time": "2024-10-25T18:34:29.774149Z",
     "start_time": "2024-10-25T18:34:29.772824Z"
    }
   },
   "outputs": [],
   "source": []
  }
 ],
 "metadata": {
  "kernelspec": {
   "display_name": ".venv",
   "language": "python",
   "name": "python3"
  },
  "language_info": {
   "codemirror_mode": {
    "name": "ipython",
    "version": 3
   },
   "file_extension": ".py",
   "mimetype": "text/x-python",
   "name": "python",
   "nbconvert_exporter": "python",
   "pygments_lexer": "ipython3",
   "version": "3.12.4"
  }
 },
 "nbformat": 4,
 "nbformat_minor": 5
}
